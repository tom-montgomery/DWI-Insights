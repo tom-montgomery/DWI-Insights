{
 "cells": [
  {
   "cell_type": "code",
   "execution_count": null,
   "metadata": {
    "collapsed": true
   },
   "outputs": [],
   "source": [
    "import numpy as np\n",
    "import sys\n",
    "\n"
   ]
  },
  {
   "cell_type": "code",
   "execution_count": null,
   "metadata": {
    "collapsed": true
   },
   "outputs": [],
   "source": [
    "import matplotlib.pyplot as plt\n",
    "import pandas as pd"
   ]
  },
  {
   "cell_type": "code",
   "execution_count": null,
   "metadata": {
    "collapsed": true
   },
   "outputs": [],
   "source": [
    "countydeath_df = pd.read_csv(r'C:\\Users\\140318\\Desktop\\Python\\Python3x\\DWI\\DWI-Insights\\CSVresults\\CountyDeaths.csv')"
   ]
  },
  {
   "cell_type": "code",
   "execution_count": null,
   "metadata": {},
   "outputs": [],
   "source": [
    "img_dir = '{0}\\\\StatsImg'.format(os.getcwd())"
   ]
  },
  {
   "cell_type": "code",
   "execution_count": null,
   "metadata": {
    "collapsed": true
   },
   "outputs": [],
   "source": [
    "countyinjury_df = pd.read_csv(r'C:\\Users\\140318\\Desktop\\Python\\Python3x\\DWI\\DWI-Insights\\CSVresults\\CountyInjuries.csv')"
   ]
  },
  {
   "cell_type": "code",
   "execution_count": null,
   "metadata": {
    "collapsed": true
   },
   "outputs": [],
   "source": [
    "countydeath_df = countydeath_df.rename({0: 2010, 1:2011, 2:2012, 3:2013, 4:2014, 5:2015, 6:2016, 7:2017})"
   ]
  },
  {
   "cell_type": "code",
   "execution_count": null,
   "metadata": {
    "collapsed": true
   },
   "outputs": [],
   "source": [
    "countyinjury_df = countyinjury_df.rename({0: 2010, 1:2011, 2:2012, 3:2013, 4:2014, 5:2015, 6:2016, 7:2017})"
   ]
  },
  {
   "cell_type": "code",
   "execution_count": null,
   "metadata": {
    "collapsed": true
   },
   "outputs": [],
   "source": [
    "countydeath_df = countydeath_df.drop('Unnamed: 0', axis=1)\n",
    "countyinjury_df = countyinjury_df.drop('Unnamed: 0', axis=1)\n",
    "counties = list(countydeath_df.columns)"
   ]
  },
  {
   "cell_type": "code",
   "execution_count": null,
   "metadata": {
    "collapsed": true
   },
   "outputs": [],
   "source": [
    "def plot_county(county, death_df, injury_df):\n",
    "    plt.figure()\n",
    "    plt.style.use('seaborn-dark')\n",
    "    c= injury_df[county]\n",
    "    f, axes = plt.subplots(2, 1)\n",
    "    plt.suptitle(\"{0} County\".format(county))\n",
    "    \n",
    "    axes[0].plot(c.index, c.values)\n",
    "    axes[0].set_ylabel('Injury Rate')\n",
    "    \n",
    "    a = death_df[county]\n",
    "    axes[1].plot(a.index, a.values)\n",
    "    axes[1].set_ylabel('Death Rate')\n",
    "    plt.savefig('{0}\\\\{1}'.format(img_dir, county), dpi=100)\n",
    "    plt.show()\n",
    "    \n"
   ]
  },
  {
   "cell_type": "code",
   "execution_count": null,
   "metadata": {},
   "outputs": [],
   "source": [
    "for county in counties:\n",
    "    plot_county(county, countydeath_df, countyinjury_df)"
   ]
  },
  {
   "cell_type": "code",
   "execution_count": null,
   "metadata": {
    "collapsed": true
   },
   "outputs": [],
   "source": []
  }
 ],
 "metadata": {
  "kernelspec": {
   "display_name": "Python 3",
   "language": "python",
   "name": "python3"
  },
  "language_info": {
   "codemirror_mode": {
    "name": "ipython",
    "version": 3
   },
   "file_extension": ".py",
   "mimetype": "text/x-python",
   "name": "python",
   "nbconvert_exporter": "python",
   "pygments_lexer": "ipython3",
   "version": "3.6.1"
  }
 },
 "nbformat": 4,
 "nbformat_minor": 2
}
