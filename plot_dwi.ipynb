{
 "cells": [
  {
   "cell_type": "code",
   "execution_count": null,
   "metadata": {
    "collapsed": true
   },
   "outputs": [],
   "source": [
    "\"\"\"Creates images of figures from each county showing death and injury trends. Calculates slope to show year on year trend.\"\"\"\n",
    "import numpy as np\n",
    "import sys\n",
    "import os\n",
    "\n"
   ]
  },
  {
   "cell_type": "code",
   "execution_count": null,
   "metadata": {
    "collapsed": true
   },
   "outputs": [],
   "source": [
    "import matplotlib.pyplot as plt\n",
    "import pandas as pd\n",
    "from scipy.interpolate import interp1d"
   ]
  },
  {
   "cell_type": "code",
   "execution_count": null,
   "metadata": {
    "collapsed": true
   },
   "outputs": [],
   "source": [
    "# Build and format data frames from csv results of GIS analysis.\n",
    "\n",
    "countydeath_df = pd.read_csv(r'C:\\Users\\140318\\Desktop\\Python\\Python3x\\DWI\\DWI-Insights\\CSVresults\\CountyDeaths.csv')\n",
    "countydeath_df = countydeath_df.rename({0: 2010, 1:2011, 2:2012, 3:2013, 4:2014, 5:2015, 6:2016})\n",
    "countyinjury_df = pd.read_csv(r'C:\\Users\\140318\\Desktop\\Python\\Python3x\\DWI\\DWI-Insights\\CSVresults\\CountyInjuries.csv')\n",
    "countyinjury_df = countyinjury_df.rename({0: 2010, 1:2011, 2:2012, 3:2013, 4:2014, 5:2015, 6:2016})\n",
    "img_dir = '{0}\\\\StatsImg'.format(os.getcwd())\n",
    "\n",
    "countydeath_df = countydeath_df.drop('Unnamed: 0', axis=1)\n",
    "countyinjury_df = countyinjury_df.drop('Unnamed: 0', axis=1)\n",
    "counties = list(countydeath_df.columns)\n",
    "years = list(countydeath_df.index)"
   ]
  },
  {
   "cell_type": "code",
   "execution_count": null,
   "metadata": {},
   "outputs": [],
   "source": [
    "def plot_county(county, death_df, injury_df):\n",
    "    \"\"\"Plots county injury and death rates for each year as a figure. Calculates slope to use as regression\"\"\"\n",
    "    plt.figure()\n",
    "    plt.style.use('seaborn-darkgrid') \n",
    "    f, axes = plt.subplots(2, 1)\n",
    "    plt.suptitle(\"{0} County Alcohol Involved Incidents Per 1000 People\".format(county))\n",
    "    \n",
    "    # Injury sub plot\n",
    "    c= injury_df[county]\n",
    "    Y = np.array(list(c.index))\n",
    "    P = np.array(list(c.values))\n",
    "    f2 = interp1d(Y, P, kind='cubic')\n",
    "    xnew = np.linspace(min(Y), max(Y), 100)\n",
    "    axes[0].plot(Y,P,'H',xnew, f2(xnew), '--')\n",
    "    fit = np.polyfit(c.index, c.values, 1)\n",
    "    fit_fn = np.poly1d(fit)\n",
    "    # axes[0].plot(c.index, c.values, 'o', c.index, fit_fn(c.index), '--k')\n",
    "    axes[0].set_ylabel('Injury Rate')\n",
    "    \n",
    "    # Death sub plot\n",
    "    a = death_df[county]\n",
    "    Y = np.array(list(a.index))\n",
    "    P = np.array(list(a.values))\n",
    "    f2 = interp1d(Y, P, kind='cubic')\n",
    "    xnew = np.linspace(min(Y), max(Y), 100)\n",
    "    axes[1].plot(Y,P,'H',xnew, f2(xnew), '--')\n",
    "    fit = np.polyfit(a.index, a.values, 1)\n",
    "    fit_fn = np.poly1d(fit)\n",
    "    # axes[1].plot(a.index, a.values, 'o', a.index, fit_fn(a.index), '--k')\n",
    "    axes[1].set_ylabel('Death Rate')\n",
    "    plt.savefig('{0}\\\\{1}'.format(img_dir, county), dpi=100)\n",
    "    \n",
    "    plt.show()"
   ]
  },
  {
   "cell_type": "code",
   "execution_count": null,
   "metadata": {},
   "outputs": [],
   "source": [
    "# Create plot for each county and save to image directory.\n",
    "for county in counties:\n",
    "    plot_county(county, countydeath_df, countyinjury_df)"
   ]
  },
  {
   "cell_type": "code",
   "execution_count": null,
   "metadata": {
    "collapsed": true
   },
   "outputs": [],
   "source": []
  }
 ],
 "metadata": {
  "kernelspec": {
   "display_name": "Python 3",
   "language": "python",
   "name": "python3"
  },
  "language_info": {
   "codemirror_mode": {
    "name": "ipython",
    "version": 3
   },
   "file_extension": ".py",
   "mimetype": "text/x-python",
   "name": "python",
   "nbconvert_exporter": "python",
   "pygments_lexer": "ipython3",
   "version": "3.6.1"
  }
 },
 "nbformat": 4,
 "nbformat_minor": 2
}
